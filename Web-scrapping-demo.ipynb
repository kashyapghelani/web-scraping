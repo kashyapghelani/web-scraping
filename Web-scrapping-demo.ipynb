{
 "cells": [
  {
   "cell_type": "code",
   "execution_count": 225,
   "metadata": {},
   "outputs": [],
   "source": [
    "import pandas as pd\n",
    "import requests\n",
    "from bs4 import BeautifulSoup"
   ]
  },
  {
   "cell_type": "code",
   "execution_count": 226,
   "metadata": {},
   "outputs": [],
   "source": [
    "company_name = []\n",
    "company_rating = []\n",
    "company_interLinking = []\n",
    "company_highly_rated_for = []\n",
    "company_critically_rated_for = []\n",
    "company_review = []\n",
    "current_jobs = []\n",
    "\n",
    "# company_age = []\n",
    "# company_category = []\n",
    "# company_headquarter = [] "
   ]
  },
  {
   "cell_type": "code",
   "execution_count": 227,
   "metadata": {},
   "outputs": [],
   "source": [
    "for page in range(1,501) :\n",
    "    url = 'https://www.ambitionbox.com/list-of-companies?page={}'.format(page)\n",
    "    headers={'User-Agent':'Mozilla/5.0 (Windows NT 6.3; Win 64 ; x64) Apple WeKit /537.36(KHTML , like Gecko) Chrome/80.0.3987.162 Safari/537.36'} \n",
    "    webpage= requests.get(url=url,headers=headers).text\n",
    "\n",
    "    soup = BeautifulSoup(webpage,  \"html.parser\")\n",
    "\n",
    "    Companies= soup.find_all('div',class_='companyCardWrapper')\n",
    "\n",
    "\n",
    "    for i in Companies:\n",
    "            \n",
    "            company_name.append(i.find('h2',class_='companyCardWrapper__companyName').text.strip())\n",
    "            company_rating.append(i.find('span',class_='companyCardWrapper__companyRatingValue').text.strip())\n",
    "            company_interLinking.append(i.find('span',class_='companyCardWrapper__interLinking').text.strip())\n",
    "\n",
    "            if(i.find('div',class_='companyCardWrapper__ratingComparisonWrapper')):\n",
    "                rated = i.find('div',class_='companyCardWrapper__ratingComparisonWrapper')\n",
    "\n",
    "                high_rated_flag = 0\n",
    "\n",
    "                if(rated.find('span',class_='companyCardWrapper__ratingHeader--high')):\n",
    "                    company_highly_rated_for.append(rated.find('span',class_='companyCardWrapper__ratingValues').text.strip())\n",
    "                    high_rated_flag = 1\n",
    "                else:\n",
    "                    company_highly_rated_for.append(None)\n",
    "\n",
    "                if(rated.find('span',class_='companyCardWrapper__ratingHeader--critical')):\n",
    "                    if(high_rated_flag == 0):\n",
    "                        company_critically_rated_for.append(rated.find('span',class_='companyCardWrapper__ratingValues').text.strip())\n",
    "                    else:\n",
    "                        company_critically_rated_for.append(rated.find_all('span',class_='companyCardWrapper__ratingValues')[1].text.strip())\n",
    "                        \n",
    "                else:\n",
    "                    company_critically_rated_for.append(None)\n",
    "\n",
    "            else:\n",
    "                company_highly_rated_for.append(None)\n",
    "                company_critically_rated_for.append(None)\n",
    "\n",
    "            company_review.append(i.find_all('span',class_='companyCardWrapper__ActionCount')[0].text.strip())\n",
    "            current_jobs.append(i.find_all('span',class_='companyCardWrapper__ActionCount')[3].text.strip())"
   ]
  },
  {
   "cell_type": "code",
   "execution_count": 232,
   "metadata": {},
   "outputs": [],
   "source": [
    "data_dict = {'name': company_name,'rating': company_rating,'interlinking':company_interLinking,'highly_rated':company_highly_rated_for,'critical_rated':company_critically_rated_for,'number_of_reviews':company_review,'number_of_jobs':current_jobs}"
   ]
  },
  {
   "cell_type": "code",
   "execution_count": 233,
   "metadata": {},
   "outputs": [],
   "source": [
    "dataframe = pd.DataFrame(data_dict)"
   ]
  },
  {
   "cell_type": "code",
   "execution_count": 235,
   "metadata": {},
   "outputs": [],
   "source": [
    "dataframe.to_csv('companies.csv')"
   ]
  },
  {
   "cell_type": "code",
   "execution_count": null,
   "metadata": {},
   "outputs": [],
   "source": []
  }
 ],
 "metadata": {
  "kernelspec": {
   "display_name": "Python 3",
   "language": "python",
   "name": "python3"
  },
  "language_info": {
   "codemirror_mode": {
    "name": "ipython",
    "version": 3
   },
   "file_extension": ".py",
   "mimetype": "text/x-python",
   "name": "python",
   "nbconvert_exporter": "python",
   "pygments_lexer": "ipython3",
   "version": "3.12.2"
  }
 },
 "nbformat": 4,
 "nbformat_minor": 2
}
